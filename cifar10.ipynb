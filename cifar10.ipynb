{
  "nbformat": 4,
  "nbformat_minor": 0,
  "metadata": {
    "colab": {
      "name": "cifar10.ipynb",
      "version": "0.3.2",
      "provenance": [],
      "include_colab_link": true
    },
    "kernelspec": {
      "name": "python3",
      "display_name": "Python 3"
    },
    "accelerator": "GPU"
  },
  "cells": [
    {
      "cell_type": "markdown",
      "metadata": {
        "id": "view-in-github",
        "colab_type": "text"
      },
      "source": [
        "[View in Colaboratory](https://colab.research.google.com/github/SakshiPriya/cifar10_convnet/blob/master/cifar10.ipynb)"
      ]
    },
    {
      "metadata": {
        "id": "O_WaeB8nJJVy",
        "colab_type": "code",
        "colab": {
          "base_uri": "https://localhost:8080/",
          "height": 373
        },
        "outputId": "c9170324-f186-482c-dd00-11821c749333"
      },
      "cell_type": "code",
      "source": [
        "!pip install torch\n",
        "!pip install torchvision"
      ],
      "execution_count": 1,
      "outputs": [
        {
          "output_type": "stream",
          "text": [
            "Collecting torch\n",
            "\u001b[?25l  Downloading https://files.pythonhosted.org/packages/49/0e/e382bcf1a6ae8225f50b99cc26effa2d4cc6d66975ccf3fa9590efcbedce/torch-0.4.1-cp36-cp36m-manylinux1_x86_64.whl (519.5MB)\n",
            "\u001b[K    100% |████████████████████████████████| 519.5MB 28kB/s \n",
            "tcmalloc: large alloc 1073750016 bytes == 0x5a31e000 @  0x7fb7332d81c4 0x46d6a4 0x5fcbcc 0x4c494d 0x54f3c4 0x553aaf 0x54e4c8 0x54f4f6 0x553aaf 0x54efc1 0x54f24d 0x553aaf 0x54efc1 0x54f24d 0x553aaf 0x54efc1 0x54f24d 0x551ee0 0x54e4c8 0x54f4f6 0x553aaf 0x54efc1 0x54f24d 0x551ee0 0x54efc1 0x54f24d 0x551ee0 0x54e4c8 0x54f4f6 0x553aaf 0x54e4c8\n",
            "\u001b[?25hInstalling collected packages: torch\n",
            "Successfully installed torch-0.4.1\n",
            "Collecting torchvision\n",
            "\u001b[?25l  Downloading https://files.pythonhosted.org/packages/ca/0d/f00b2885711e08bd71242ebe7b96561e6f6d01fdb4b9dcf4d37e2e13c5e1/torchvision-0.2.1-py2.py3-none-any.whl (54kB)\n",
            "\u001b[K    100% |████████████████████████████████| 61kB 2.7MB/s \n",
            "\u001b[?25hCollecting pillow>=4.1.1 (from torchvision)\n",
            "\u001b[?25l  Downloading https://files.pythonhosted.org/packages/d1/24/f53ff6b61b3d728b90934bddb4f03f8ab584a7f49299bf3bde56e2952612/Pillow-5.2.0-cp36-cp36m-manylinux1_x86_64.whl (2.0MB)\n",
            "\u001b[K    100% |████████████████████████████████| 2.0MB 8.6MB/s \n",
            "\u001b[?25hRequirement already satisfied: torch in /usr/local/lib/python3.6/dist-packages (from torchvision) (0.4.1)\n",
            "Requirement already satisfied: numpy in /usr/local/lib/python3.6/dist-packages (from torchvision) (1.14.5)\n",
            "Requirement already satisfied: six in /usr/local/lib/python3.6/dist-packages (from torchvision) (1.11.0)\n",
            "Installing collected packages: pillow, torchvision\n",
            "  Found existing installation: Pillow 4.0.0\n",
            "    Uninstalling Pillow-4.0.0:\n",
            "      Successfully uninstalled Pillow-4.0.0\n",
            "Successfully installed pillow-5.2.0 torchvision-0.2.1\n"
          ],
          "name": "stdout"
        }
      ]
    },
    {
      "metadata": {
        "id": "lrQJERP8SE6x",
        "colab_type": "code",
        "colab": {}
      },
      "cell_type": "code",
      "source": [
        "import torch\n",
        "import torchvision\n",
        "import torch.nn as nn\n",
        "import torch.nn.functional as f\n",
        "import torch.optim as optim\n",
        "import matplotlib.pyplot as plt\n",
        "import numpy as np"
      ],
      "execution_count": 0,
      "outputs": []
    },
    {
      "metadata": {
        "id": "9J7xibhgNbSN",
        "colab_type": "code",
        "colab": {
          "base_uri": "https://localhost:8080/",
          "height": 50
        },
        "outputId": "e4f1009c-0b20-4650-9e9d-52b4347fe2b4"
      },
      "cell_type": "code",
      "source": [
        "transform=torchvision.transforms.Compose([torchvision.transforms.ToTensor(),torchvision.transforms.Normalize((0.5,0.5,0.5),(0.5,0.5,0.5))])\n",
        "traindataset=torchvision.datasets.CIFAR10(root='drive/app/cifar10',train=True,download=True,transform=transform)#download trainset and transfor it,here dataset already in range 0,1not 0,255\n",
        "trainset=torch.utils.data.DataLoader(traindataset,batch_size=64,shuffle=True,num_workers=4)#shuffles traindataset and batch it\n",
        "testdataset=torchvision.datasets.CIFAR10(root='drive/app/cifar10',train=False,download=True,transform=transform)\n",
        "testset=torch.utils.data.DataLoader(testdataset,batch_size=64,shuffle=True,num_workers=4)\n",
        "sizeoftrainset=len(traindataset)\n",
        "sizeoftestset=len(testdataset)\n",
        "classes = np.array(('airplane', 'automobile', 'bird', 'cat','deer', 'dog', 'frog', 'horse', 'ship', 'truck'))\n",
        "if torch.cuda.is_available():\n",
        "  processor='cuda'\n",
        "else:\n",
        "  processor='cpu'\n",
        " \n",
        "device=torch.device(processor)\n"
      ],
      "execution_count": 8,
      "outputs": [
        {
          "output_type": "stream",
          "text": [
            "Files already downloaded and verified\n",
            "Files already downloaded and verified\n"
          ],
          "name": "stdout"
        }
      ]
    },
    {
      "metadata": {
        "id": "FXtyUIGN1Fln",
        "colab_type": "code",
        "colab": {}
      },
      "cell_type": "code",
      "source": [
        "def show_image(i):\n",
        "     untransform=torchvision.transforms.ToPILImage()\n",
        "     i=(i/2+0.5)\n",
        "     plt.imshow(untransform(i))\n",
        " \n",
        "\n",
        "#sample of trainset\n",
        "#a=iter(trainset)\n",
        "#image,labels=a.next()\n",
        "#plt.figure()\n",
        "#show_image(torchvision.utils.make_grid(image))#it takes a batch of image and pad every image by 0 and then make a grid of image\n",
        "#plt.show()\n",
        "#labels=labels.numpy()\n",
        "#print(classes[labels])"
      ],
      "execution_count": 0,
      "outputs": []
    },
    {
      "metadata": {
        "id": "35T2el5bmQv5",
        "colab_type": "code",
        "colab": {}
      },
      "cell_type": "code",
      "source": [
        "\n",
        "class classifier(nn.Module):\n",
        "  def __init__(self):\n",
        "    super(classifier,self).__init__()\n",
        "    self.conv1=nn.Conv2d(3,16,5) #filter1\n",
        "    self.conv2=nn.Conv2d(16,32,5)#filter2\n",
        "    self.conv3=nn.Conv2d(32,64,5)#filter3\n",
        "    self.conv4=nn.Conv2d(64,96,3)\n",
        "    self.conv5=nn.Conv2d(96,128,3)\n",
        "    self.bc1=nn.BatchNorm2d(16)\n",
        "    self.bc2=nn.BatchNorm2d(32)\n",
        "    self.bc3=nn.BatchNorm2d(64)\n",
        "    self.bc4=nn.BatchNorm2d(96)\n",
        "    self.bc5=nn.BatchNorm2d(128)\n",
        "    self.fc1=nn.Linear(3200,700) #linear layer input and output\n",
        "    self.fc2=nn.Linear(700,100)\n",
        "    self.fc3=nn.Linear(100,10)\n",
        "    \n",
        "    \n",
        "  def forward(self,x):\n",
        "    x=self.conv1(x)\n",
        "    x=self.bc1(x)\n",
        "    x=f.relu(x)\n",
        "    x=f.max_pool2d(x,(2,2),stride=1)\n",
        "    x=self.conv2(x)\n",
        "    x=self.bc2(x)\n",
        "    x=f.relu(x)\n",
        "    x=self.conv3(x)\n",
        "    x=self.bc3(x)\n",
        "    x=f.relu(x)\n",
        "    x=f.max_pool2d(x,(2,2),stride=2)\n",
        "    x=self.conv4(x)\n",
        "    x=self.bc4(x)\n",
        "    x=f.relu(x)\n",
        "    x=self.conv5(x)\n",
        "    x=self.bc5(x)\n",
        "    x=f.relu(x)   \n",
        "\n",
        "    x=x.view(-1,self.num_of_features(x))\n",
        "    \n",
        "    x=f.relu(self.fc1(x))\n",
        "    x=f.relu(self.fc2(x))\n",
        "    x=self.fc3(x)\n",
        "    return x\n",
        "  \n",
        "  def num_of_features(self,x):\n",
        "    size=x.size()[1:]     \n",
        "    numfeatures=1\n",
        "    for s in size:\n",
        "      numfeatures*=s\n",
        "    return numfeatures\n",
        "  \n",
        "  \n",
        "net=classifier()\n",
        "net.to(device)\n",
        "net=nn.DataParallel(net)\n",
        "criterion=nn.CrossEntropyLoss()\n",
        "optimizer=optim.SGD(net.parameters(),lr=.01,momentum=0.9)\n",
        "scheduler=optim.lr_scheduler.StepLR(optimizer,gamma=0.1,step_size=30)\n",
        "dtype=torch.cuda.LongTensor\n",
        "Losslist=[]"
      ],
      "execution_count": 0,
      "outputs": []
    },
    {
      "metadata": {
        "id": "rWLvGvWO_3Bt",
        "colab_type": "code",
        "colab": {
          "base_uri": "https://localhost:8080/",
          "height": 1210
        },
        "outputId": "8e530f70-505f-4b7f-8b67-e526b838405b"
      },
      "cell_type": "code",
      "source": [
        "for epoch in range(70):\n",
        "  running_loss=0.0\n",
        "  for a,b in enumerate(trainset):\n",
        "    inputs,labels=b\n",
        "    labels=labels.type(dtype)\n",
        "    inputs.to(device)\n",
        "    labels.to(device)\n",
        "    optimizer.zero_grad()\n",
        "    output=net(inputs)\n",
        "    loss=criterion(output,labels)\n",
        "    loss.backward()\n",
        "    optimizer.step()\n",
        "    running_loss+=loss.item()\n",
        "  lossofepoch=running_loss/sizeoftrainset\n",
        "  print(lossofepoch)\n",
        "  Losslist.append(running_loss/sizeoftrainset)\n",
        "  scheduler.step()\n",
        "  \n",
        "print(\"complete\")"
      ],
      "execution_count": 14,
      "outputs": [
        {
          "output_type": "stream",
          "text": [
            "0.023961814663410186\n",
            "0.017990345509052277\n",
            "0.015272923805713653\n",
            "0.013317236924171447\n",
            "0.011857324004769325\n",
            "0.010590534500479698\n",
            "0.009487243515849113\n",
            "0.008501282106637954\n",
            "0.007543810122013092\n",
            "0.006431637794077396\n",
            "0.005537695956528187\n",
            "0.004718330928385257\n",
            "0.0038010656853020193\n",
            "0.0032515621392428876\n",
            "0.0026780353154242037\n",
            "0.0023310907320678235\n",
            "0.0017857988278567791\n",
            "0.0016317694497853517\n",
            "0.0013691638826578856\n",
            "0.0012410039315372706\n",
            "0.0011993272592872382\n",
            "0.0008107841020822525\n",
            "0.0008932323287427425\n",
            "0.0008168010930716991\n",
            "0.0006809865865856409\n",
            "0.0007051624898985028\n",
            "0.0006320415885746479\n",
            "0.0006776732408255338\n",
            "0.0004823525030165911\n",
            "0.00042953657813370226\n",
            "0.0003267366713285446\n",
            "0.00011668708920478821\n",
            "4.8447567522525785e-05\n",
            "4.023900061845779e-05\n",
            "2.86313609033823e-05\n",
            "2.6006563752889634e-05\n",
            "2.0412494987249374e-05\n",
            "2.1352894902229308e-05\n",
            "1.855391100049019e-05\n",
            "1.574133813381195e-05\n",
            "1.52009217441082e-05\n",
            "1.3980846405029296e-05\n",
            "1.44446462392807e-05\n",
            "1.2531821578741074e-05\n",
            "1.3563988357782365e-05\n",
            "1.2822871953248978e-05\n",
            "1.0449140965938567e-05\n",
            "1.0633679926395417e-05\n",
            "1.0592193603515624e-05\n",
            "1.088602289557457e-05\n",
            "9.803553819656372e-06\n",
            "8.068457394838333e-06\n",
            "8.419435024261475e-06\n",
            "8.175081014633179e-06\n",
            "7.746246308088302e-06\n",
            "8.537999391555787e-06\n",
            "8.838112130761147e-06\n",
            "7.191440463066101e-06\n",
            "6.821692734956741e-06\n",
            "7.525080144405365e-06\n",
            "7.67394557595253e-06\n",
            "7.011010348796845e-06\n",
            "8.44275563955307e-06\n",
            "8.702885508537292e-06\n",
            "7.263535112142563e-06\n",
            "6.856345981359482e-06\n",
            "6.803753077983856e-06\n",
            "6.45348459482193e-06\n",
            "5.742597579956055e-06\n",
            "7.972061485052109e-06\n",
            "complete\n"
          ],
          "name": "stdout"
        }
      ]
    },
    {
      "metadata": {
        "id": "5au6S5Dt6SML",
        "colab_type": "code",
        "colab": {
          "base_uri": "https://localhost:8080/",
          "height": 349
        },
        "outputId": "81776011-7b83-4274-b6a3-7cd3e7c4ce85"
      },
      "cell_type": "code",
      "source": [
        "plt.figure()\n",
        "plt.plot(Losslist)\n",
        "plt.show()"
      ],
      "execution_count": 15,
      "outputs": [
        {
          "output_type": "display_data",
          "data": {
            "image/png": "[encoded data removed]",
            "text/plain": [
              "<matplotlib.figure.Figure at 0x7f4be815c0f0>"
            ]
          },
          "metadata": {
            "tags": []
          }
        }
      ]
    },
    {
      "metadata": {
        "id": "Y2gSRMl0VMc-",
        "colab_type": "code",
        "colab": {
          "base_uri": "https://localhost:8080/",
          "height": 50
        },
        "outputId": "53abb91e-9ef0-4ae7-dd34-ff9c0781addc"
      },
      "cell_type": "code",
      "source": [
        "\n",
        "class_total=np.zeros(10,)\n",
        "class_correct=np.zeros(10,)\n",
        "\n",
        "correctsum=0\n",
        "for i in testset:\n",
        "   image,label=i\n",
        "   label=label.type(dtype)\n",
        "   image.to(device)\n",
        "   label.to(device)\n",
        "   output=net(image)\n",
        "   predict=torch.max(output,1)[1]\n",
        "   labels=label.cpu().numpy()\n",
        "   predicts=predict.cpu().numpy()\n",
        "   unique_elements, counts_elements = np.unique(labels, return_counts=True)\n",
        "   class_total[unique_elements]+=counts_elements\n",
        "   correct=(predicts==labels)\n",
        "   c=[predicts[m] for m,n in enumerate(correct) if n==1]\n",
        "   uts, cts = np.unique(c, return_counts=True)\n",
        "   class_correct[uts]+=cts\n",
        "   correctsum+=correct.sum()\n",
        "   \n",
        "print('class accuracy percentage:',class_correct/class_total*100,'\\ntotal accuracy:',correctsum/sizeoftestset*100)\n"
      ],
      "execution_count": 16,
      "outputs": [
        {
          "output_type": "stream",
          "text": [
            "class accuracy percentage: [79.6 86.5 67.3 59.2 75.8 65.9 80.6 79.5 85.4 82.9] \n",
            "total accuracy: 76.27000000000001\n"
          ],
          "name": "stdout"
        }
      ]
    }
  ]
}